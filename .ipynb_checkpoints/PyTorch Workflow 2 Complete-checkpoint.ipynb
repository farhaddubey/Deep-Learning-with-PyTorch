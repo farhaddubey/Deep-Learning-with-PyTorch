{
 "cells": [
  {
   "cell_type": "code",
   "execution_count": null,
   "id": "f7fa1b9f",
   "metadata": {},
   "outputs": [
    {
     "data": {
      "text/plain": [
       "[<matplotlib.lines.Line2D at 0x1e39f6d2f10>]"
      ]
     },
     "execution_count": 1,
     "metadata": {},
     "output_type": "execute_result"
    }
   ],
   "source": [
    "import torch \n",
    "from torch import nn\n",
    "import matplotlib.pyplot as plt\n",
    "import matplotlib as mpl\n",
    "plt.rcParams.update({\n",
    "    \"figure.facecolor\":\"black\",\n",
    "    \"axes.facecolor\":\"black\",\n",
    "    \"axes.edgecolor\":\"orange\",\n",
    "    \"xtick.color\":\"red\",\n",
    "    \"ytick.color\":\"yellow\",\n",
    "    \"legend.labelcolor\":\"linecolor\"\n",
    "})\n",
    "plt.plot(range(10))"
   ]
  },
  {
   "cell_type": "raw",
   "id": "04dcbd97",
   "metadata": {},
   "source": [
    "\n",
    "torch.__version__"
   ]
  },
  {
   "cell_type": "code",
   "execution_count": null,
   "id": "4b13311a",
   "metadata": {},
   "outputs": [],
   "source": [
    "import torch \n",
    "from torch import nn\n",
    "import matplotlib.pyplot as plt\n",
    "import matplotlib as mpl\n",
    "plt.rcParams.update({\n",
    "    \"figure.facecolor\":\"black\",\n",
    "    \"axes.facecolor\":\"black\", \n",
    "    \"axes.edgecolor\":\"orange\",\n",
    "    \"xtick.color\":\"red\",\n",
    "    \"ytick.color\":\"yellow\",\n",
    "    \"legend.labelcolor\":\"linecolor\"\n",
    "})\n",
    "plt.plot(range(10))\n",
    "# Creating known parameters\n",
    "weight = .7\n",
    "bias = .3\n",
    "# Craet data\n",
    "start = 0\n",
    "end = 1\n",
    "step = .02\n",
    "X = torch.arange(start, end, step).unsqueeze(dim=1)\n",
    "y = weight*X+bias\n",
    "X[:10], y[:10]\n",
    "\n",
    "# Creating train/test split\n",
    "train_split=int(.8*len(X)) # Hence 80% data is used for training set\n",
    "X_train, y_train=X[:train_split], y[:train_split]\n",
    "X_test, y_test=X[train_split:], y[train_split:]\n",
    "len(X_train), len(y_train), len(X_test), len(y_test)\n",
    "\n",
    "# Now creating a function to visualize it\n",
    "def plot_predictions(train_data=X_train, train_labels=y_train, test_data=X_test, test_labels=y_test, predictions=None):\n",
    "    plt.figure(figsize=(10, 7))\n",
    "    #plotting trainnnin data in blue\n",
    "    plt.scatter(train_data, train_labels, c=\"b\", s=4, label=\"Training Data\")\n",
    "    #plotting test data in yello\n",
    "    plt.scatter(test_data, test_labels, c=\"y\", s=4, label=\"TEst Data\")\n",
    "    if predictions is not None:\n",
    "        # plotting that predictions were made on red color\n",
    "        plt.scatter(test_data, predictions, c=\"r\", s=4, label=\"Predictions\")\n",
    "    plt.legend(prop={\"size\":14})\n",
    "plot_predictions()"
   ]
  },
  {
   "cell_type": "code",
   "execution_count": 1,
   "id": "6c2e0305",
   "metadata": {},
   "outputs": [
    {
     "ename": "NameError",
     "evalue": "name 'plot_predictions' is not defined",
     "output_type": "error",
     "traceback": [
      "\u001b[1;31m---------------------------------------------------------------------------\u001b[0m",
      "\u001b[1;31mNameError\u001b[0m                                 Traceback (most recent call last)",
      "Cell \u001b[1;32mIn[1], line 1\u001b[0m\n\u001b[1;32m----> 1\u001b[0m plot_predictions()\n",
      "\u001b[1;31mNameError\u001b[0m: name 'plot_predictions' is not defined"
     ]
    }
   ],
   "source": []
  },
  {
   "cell_type": "code",
   "execution_count": null,
   "id": "39784e2c",
   "metadata": {},
   "outputs": [],
   "source": []
  }
 ],
 "metadata": {
  "kernelspec": {
   "display_name": "Python 3 (ipykernel)",
   "language": "python",
   "name": "python3"
  },
  "language_info": {
   "codemirror_mode": {
    "name": "ipython",
    "version": 3
   },
   "file_extension": ".py",
   "mimetype": "text/x-python",
   "name": "python",
   "nbconvert_exporter": "python",
   "pygments_lexer": "ipython3",
   "version": "3.11.5"
  }
 },
 "nbformat": 4,
 "nbformat_minor": 5
}
