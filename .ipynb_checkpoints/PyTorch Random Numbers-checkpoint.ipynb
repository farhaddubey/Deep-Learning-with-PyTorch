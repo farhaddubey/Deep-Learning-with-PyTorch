{
 "cells": [
  {
   "cell_type": "code",
   "execution_count": 3,
   "id": "d77f4dec",
   "metadata": {},
   "outputs": [
    {
     "name": "stdout",
     "output_type": "stream",
     "text": [
      "Tensor A:\n",
      "tensor([[0.7858, 0.3523, 0.2136, 0.3651],\n",
      "        [0.9837, 0.8626, 0.5693, 0.4538],\n",
      "        [0.4192, 0.6024, 0.2487, 0.4304]])\n",
      "\n",
      "Tensor B:\n",
      " tensor([[1.9265e-01, 3.6727e-01, 6.5552e-01, 4.7698e-01],\n",
      "        [1.9226e-02, 1.8013e-01, 9.6232e-04, 5.8589e-01],\n",
      "        [8.1430e-01, 5.6063e-01, 5.2182e-01, 9.7303e-01]])\n",
      "\n"
     ]
    },
    {
     "data": {
      "text/plain": [
       "tensor([[False, False, False, False],\n",
       "        [False, False, False, False],\n",
       "        [False, False, False, False]])"
      ]
     },
     "execution_count": 3,
     "metadata": {},
     "output_type": "execute_result"
    }
   ],
   "source": [
    "import torch\n",
    "random_tensor_A=torch.rand(3, 4)\n",
    "random_tensor_B=torch.rand(3, 4)\n",
    "print(f\"Tensor A:\\n{random_tensor_A}\\n\")\n",
    "print(f\"Tensor B:\\n {random_tensor_B}\\n\")\n",
    "random_tensor_A==random_tensor_B"
   ]
  },
  {
   "cell_type": "code",
   "execution_count": 14,
   "id": "cb4f6b54",
   "metadata": {},
   "outputs": [
    {
     "name": "stdout",
     "output_type": "stream",
     "text": [
      "Tensor A:\n",
      "tensor([[0.1819, 0.7287, 0.3675, 0.6684],\n",
      "        [0.2857, 0.3219, 0.5514, 0.9196],\n",
      "        [0.6360, 0.2115, 0.5336, 0.8606]])\n",
      "\n",
      "Tensor B:\n",
      " tensor([[0.1819, 0.7287, 0.3675, 0.6684],\n",
      "        [0.2857, 0.3219, 0.5514, 0.9196],\n",
      "        [0.6360, 0.2115, 0.5336, 0.8606]])\n",
      "\n",
      "Does Tensor C equals D? (anywhere)?\n"
     ]
    },
    {
     "data": {
      "text/plain": [
       "tensor([[True, True, True, True],\n",
       "        [True, True, True, True],\n",
       "        [True, True, True, True]])"
      ]
     },
     "execution_count": 14,
     "metadata": {},
     "output_type": "execute_result"
    }
   ],
   "source": [
    "# Using torch.manual_seed(seed), the two random no. generated could be made same\n",
    "import torch \n",
    "import random\n",
    "# Setting the random seed\n",
    "RANDOM_SEED=90\n",
    "torch.manual_seed(seed=RANDOM_SEED)\n",
    "random_tensor_C = torch.rand(3, 4)\n",
    "\n",
    "# We've to reset the seed every time a new rand() is called \n",
    "# Without this tensot_D would be different from tensor_C\n",
    "torch.random.manual_seed(seed=RANDOM_SEED)\n",
    "random_tensor_D=torch.rand(3, 4)\n",
    "print(f\"Tensor A:\\n{random_tensor_C}\\n\")\n",
    "print(f\"Tensor B:\\n {random_tensor_D}\\n\")\n",
    "print(f\"Does Tensor C equals D? (anywhere)?\")\n",
    "random_tensor_C==random_tensor_D\n"
   ]
  },
  {
   "cell_type": "code",
   "execution_count": 15,
   "id": "0b639164",
   "metadata": {},
   "outputs": [
    {
     "name": "stdout",
     "output_type": "stream",
     "text": [
      "Sat Feb 24 12:43:12 2024       \n",
      "+-----------------------------------------------------------------------------+\n",
      "| NVIDIA-SMI 512.78       Driver Version: 512.78       CUDA Version: 11.6     |\n",
      "|-------------------------------+----------------------+----------------------+\n",
      "| GPU  Name            TCC/WDDM | Bus-Id        Disp.A | Volatile Uncorr. ECC |\n",
      "| Fan  Temp  Perf  Pwr:Usage/Cap|         Memory-Usage | GPU-Util  Compute M. |\n",
      "|                               |                      |               MIG M. |\n",
      "|===============================+======================+======================|\n",
      "|   0  NVIDIA GeForce ... WDDM  | 00000000:01:00.0 Off |                  N/A |\n",
      "| N/A   36C    P3    15W /  N/A |      0MiB /  4096MiB |      0%      Default |\n",
      "|                               |                      |                  N/A |\n",
      "+-------------------------------+----------------------+----------------------+\n",
      "                                                                               \n",
      "+-----------------------------------------------------------------------------+\n",
      "| Processes:                                                                  |\n",
      "|  GPU   GI   CI        PID   Type   Process name                  GPU Memory |\n",
      "|        ID   ID                                                   Usage      |\n",
      "|=============================================================================|\n",
      "|  No running processes found                                                 |\n",
      "+-----------------------------------------------------------------------------+\n"
     ]
    }
   ],
   "source": [
    "# To check if I'm having access to GPU to run \n",
    "!nvidia-smi"
   ]
  },
  {
   "cell_type": "code",
   "execution_count": null,
   "id": "5eab1ed6",
   "metadata": {},
   "outputs": [],
   "source": []
  }
 ],
 "metadata": {
  "kernelspec": {
   "display_name": "Python 3 (ipykernel)",
   "language": "python",
   "name": "python3"
  },
  "language_info": {
   "codemirror_mode": {
    "name": "ipython",
    "version": 3
   },
   "file_extension": ".py",
   "mimetype": "text/x-python",
   "name": "python",
   "nbconvert_exporter": "python",
   "pygments_lexer": "ipython3",
   "version": "3.11.5"
  }
 },
 "nbformat": 4,
 "nbformat_minor": 5
}
